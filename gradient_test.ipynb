{
 "cells": [
  {
   "cell_type": "code",
   "execution_count": 21,
   "metadata": {},
   "outputs": [],
   "source": [
    "import torch\n",
    "import torch.optim as optim\n",
    "import numpy as np\n",
    "import matplotlib.pyplot as plt\n",
    "import torch.nn as nn\n",
    "\n",
    "np.random.seed(42)"
   ]
  },
  {
   "cell_type": "code",
   "execution_count": 22,
   "metadata": {},
   "outputs": [
    {
     "data": {
      "text/plain": [
       "<matplotlib.collections.PathCollection at 0x7f63610b42e8>"
      ]
     },
     "execution_count": 22,
     "metadata": {},
     "output_type": "execute_result"
    },
    {
     "data": {
      "image/png": "[encoded data removed]",
      "text/plain": [
       "<Figure size 432x288 with 1 Axes>"
      ]
     },
     "metadata": {
      "needs_background": "light"
     },
     "output_type": "display_data"
    }
   ],
   "source": [
    "w = 4.5\n",
    "b = 7.0\n",
    "\n",
    "x_array = np.array([-1.5, -1.0, -0.1, 0.9, 1.8, 2.2, 3.1])\n",
    "y_array = w * x_array + np.random.normal(size=x_array.shape[0])\n",
    "plt.scatter(x_array, y_array)"
   ]
  },
  {
   "cell_type": "code",
   "execution_count": 23,
   "metadata": {},
   "outputs": [
    {
     "name": "stdout",
     "output_type": "stream",
     "text": [
      "(tensor([48.], grad_fn=<MulBackward0>),)\n"
     ]
    },
    {
     "data": {
      "text/plain": [
       "tensor([24.])"
      ]
     },
     "execution_count": 23,
     "metadata": {},
     "output_type": "execute_result"
    }
   ],
   "source": [
    "x = torch.tensor([4.], requires_grad=True)\n",
    "f = x ** 3\n",
    "g = torch.autograd.grad(f, x, create_graph=True)\n",
    "print(g)\n",
    "\n",
    "g[0].backward()\n",
    "x.grad"
   ]
  },
  {
   "cell_type": "code",
   "execution_count": 24,
   "metadata": {},
   "outputs": [
    {
     "name": "stdout",
     "output_type": "stream",
     "text": [
      "(tensor([300.], grad_fn=<MulBackward0>),)\n",
      "tensor([60.])\n",
      "tensor([120.])\n"
     ]
    }
   ],
   "source": [
    "x = torch.tensor([4.], requires_grad=True)\n",
    "y = torch.tensor([3.], requires_grad=True)\n",
    "f = (x + 2 * y) ** 3\n",
    "g = torch.autograd.grad(f, x, create_graph=True)\n",
    "print(g)\n",
    "g[0].backward()\n",
    "print(x.grad)\n",
    "print(y.grad)"
   ]
  },
  {
   "cell_type": "code",
   "execution_count": 25,
   "metadata": {},
   "outputs": [
    {
     "name": "stdout",
     "output_type": "stream",
     "text": [
      "torch.Size([2])\n",
      "torch.Size([1, 2])\n",
      "tensor([11.], grad_fn=<MvBackward>)\n",
      "tensor([2.])\n",
      "tensor([1.])\n"
     ]
    }
   ],
   "source": [
    "t = torch.tensor([4.0], requires_grad=True)\n",
    "x = torch.tensor([3.0], requires_grad=True)\n",
    "#print('*start*t*x*'*3)\n",
    "#print(torch.cat([t, x], dim=0))\n",
    "print(torch.cat([t, x], dim=0).size())\n",
    "print(torch.tensor([[2.0, 1.0]]).size())\n",
    "#u = torch.cat([t, x], dim=0) * torch.tensor([[2.0],\n",
    "#                                             [1.0]])\n",
    "u = torch.mv(torch.tensor([[2.0, 1.0]]), torch.cat([t, x], dim=0))\n",
    "#print('*model*'*10)\n",
    "u.backward()\n",
    "print(u)\n",
    "#gradient = torch.autograd.grad(u, (t, x), retain_graph=True, create_graph=True)\n",
    "#print(gradient)\n",
    "print(t.grad)\n",
    "print(x.grad)"
   ]
  },
  {
   "cell_type": "code",
   "execution_count": 89,
   "metadata": {},
   "outputs": [],
   "source": [
    "class Model(nn.Module):\n",
    "    def __init__(self):\n",
    "        super(Model, self).__init__()\n",
    "        self.fc1 = nn.Linear(2, 2)\n",
    "        self.fc2 = nn.Linear(2, 1)\n",
    "\n",
    "    def forward(self, x):\n",
    "        '''\n",
    "        x = torch([batch, t, x])\n",
    "        '''\n",
    "        x = torch.tanh(self.fc1(x))\n",
    "        x = self.fc2(x)\n",
    "        return x"
   ]
  },
  {
   "cell_type": "code",
   "execution_count": 90,
   "metadata": {},
   "outputs": [
    {
     "name": "stdout",
     "output_type": "stream",
     "text": [
      "Parameter containing:\n",
      "tensor([[ 0.6428, -0.3833],\n",
      "        [ 0.6757,  0.6876]], requires_grad=True)\n",
      "Parameter containing:\n",
      "tensor([-0.2276, -0.5700], requires_grad=True)\n",
      "Parameter containing:\n",
      "tensor([[-0.2379, -0.0359]], requires_grad=True)\n",
      "Parameter containing:\n",
      "tensor([0.3716], requires_grad=True)\n"
     ]
    }
   ],
   "source": [
    "model = Model()\n",
    "for param in model.parameters():\n",
    "    print(param)"
   ]
  },
  {
   "cell_type": "code",
   "execution_count": 91,
   "metadata": {},
   "outputs": [],
   "source": [
    "t = torch.tensor([4.0], requires_grad=True)\n",
    "x = torch.tensor([3.0], requires_grad=True)"
   ]
  },
  {
   "cell_type": "code",
   "execution_count": 92,
   "metadata": {},
   "outputs": [],
   "source": [
    "u = model(torch.cat([t, x], dim=0))"
   ]
  },
  {
   "cell_type": "code",
   "execution_count": 93,
   "metadata": {},
   "outputs": [
    {
     "name": "stdout",
     "output_type": "stream",
     "text": [
      "odict_keys(['fc1.weight', 'fc1.bias', 'fc2.weight', 'fc2.bias'])\n"
     ]
    }
   ],
   "source": [
    "print(model.state_dict().keys())"
   ]
  },
  {
   "cell_type": "code",
   "execution_count": 94,
   "metadata": {},
   "outputs": [
    {
     "name": "stdout",
     "output_type": "stream",
     "text": [
      "tensor([0.1378], grad_fn=<AddBackward0>)\n"
     ]
    }
   ],
   "source": [
    "print(u)"
   ]
  },
  {
   "cell_type": "code",
   "execution_count": 95,
   "metadata": {},
   "outputs": [],
   "source": [
    "gradient = torch.autograd.grad(u, (t, x), retain_graph=True, create_graph=True)"
   ]
  },
  {
   "cell_type": "code",
   "execution_count": 96,
   "metadata": {},
   "outputs": [
    {
     "name": "stdout",
     "output_type": "stream",
     "text": [
      "(tensor([-0.0472], grad_fn=<SliceBackward>), tensor([0.0281], grad_fn=<SliceBackward>))\n"
     ]
    }
   ],
   "source": [
    "print(gradient)"
   ]
  },
  {
   "cell_type": "code",
   "execution_count": 97,
   "metadata": {},
   "outputs": [
    {
     "name": "stdout",
     "output_type": "stream",
     "text": [
      "tensor([0.1224], grad_fn=<AddBackward0>)\n"
     ]
    }
   ],
   "source": [
    "t = torch.tensor([5.0], requires_grad=True)\n",
    "x = torch.tensor([4.0], requires_grad=True)\n",
    "u = model(torch.cat([t, x], dim=0))\n",
    "print(u)\n",
    "gradient = torch.autograd.grad(u, (t, x), retain_graph=True, create_graph=True)"
   ]
  },
  {
   "cell_type": "code",
   "execution_count": 98,
   "metadata": {},
   "outputs": [
    {
     "name": "stdout",
     "output_type": "stream",
     "text": [
      "(tensor([-0.0301], grad_fn=<SliceBackward>), tensor([0.0179], grad_fn=<SliceBackward>))\n"
     ]
    }
   ],
   "source": [
    "print(gradient)"
   ]
  },
  {
   "cell_type": "code",
   "execution_count": 99,
   "metadata": {},
   "outputs": [
    {
     "name": "stdout",
     "output_type": "stream",
     "text": [
      "tensor([0.1224], grad_fn=<AddBackward0>)\n",
      "tensor([0.0179])\n",
      "tensor([-0.0301])\n"
     ]
    }
   ],
   "source": [
    "t = torch.tensor([5.0], requires_grad=True)\n",
    "x = torch.tensor([4.0], requires_grad=True)\n",
    "u = model(torch.cat([t, x], dim=0))\n",
    "print(u)\n",
    "u.backward()\n",
    "print(x.grad)\n",
    "print(t.grad)"
   ]
  },
  {
   "cell_type": "code",
   "execution_count": null,
   "metadata": {},
   "outputs": [],
   "source": []
  }
 ],
 "metadata": {
  "kernelspec": {
   "display_name": "Python 3",
   "language": "python",
   "name": "python3"
  },
  "language_info": {
   "codemirror_mode": {
    "name": "ipython",
    "version": 3
   },
   "file_extension": ".py",
   "mimetype": "text/x-python",
   "name": "python",
   "nbconvert_exporter": "python",
   "pygments_lexer": "ipython3",
   "version": "3.6.8"
  }
 },
 "nbformat": 4,
 "nbformat_minor": 4
}
