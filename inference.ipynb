{
 "cells": [
  {
   "cell_type": "code",
   "execution_count": 64,
   "metadata": {},
   "outputs": [],
   "source": [
    "import torch\n",
    "import torch.nn as nn\n",
    "from train import data_load\n",
    "from model import Model\n",
    "import numpy as np\n",
    "import matplotlib.pyplot as plt"
   ]
  },
  {
   "cell_type": "code",
   "execution_count": 71,
   "metadata": {},
   "outputs": [
    {
     "data": {
      "text/plain": [
       "Model(\n",
       "  (fc1): Linear(in_features=2, out_features=56, bias=True)\n",
       "  (fc2): Linear(in_features=56, out_features=56, bias=True)\n",
       "  (fc3): Linear(in_features=56, out_features=56, bias=True)\n",
       "  (fc4): Linear(in_features=56, out_features=56, bias=True)\n",
       "  (fc5): Linear(in_features=56, out_features=56, bias=True)\n",
       "  (fc6): Linear(in_features=56, out_features=56, bias=True)\n",
       "  (fc7): Linear(in_features=56, out_features=56, bias=True)\n",
       "  (fc8): Linear(in_features=56, out_features=56, bias=True)\n",
       "  (fc9): Linear(in_features=56, out_features=1, bias=True)\n",
       ")"
      ]
     },
     "execution_count": 71,
     "metadata": {},
     "output_type": "execute_result"
    }
   ],
   "source": [
    "model = Model(num_node=56)\n",
    "model.load_state_dict(torch.load('/home/takeshi/CFD_python/checkpoint/step_10000.pth'))\n",
    "model.eval()"
   ]
  },
  {
   "cell_type": "code",
   "execution_count": 72,
   "metadata": {},
   "outputs": [],
   "source": [
    "dataset = data_load('dataset.pkl')"
   ]
  },
  {
   "cell_type": "code",
   "execution_count": 73,
   "metadata": {},
   "outputs": [],
   "source": [
    "def get_all_input(dataset):\n",
    "    '''\n",
    "    for evaluate\n",
    "    '''\n",
    "    input_list = []\n",
    "    label_list = []\n",
    "    for t_index, t in enumerate(dataset['t']):\n",
    "        for x_index, x in enumerate(dataset['x']):\n",
    "            input_list.append(np.concatenate([t, x], axis=0))\n",
    "            label_list.append([dataset['u'][x_index][0][t_index]])\n",
    "    return torch.tensor(np.stack(input_list, axis=0), dtype=torch.float32), torch.tensor(label_list, dtype=torch.float32)"
   ]
  },
  {
   "cell_type": "code",
   "execution_count": 74,
   "metadata": {},
   "outputs": [
    {
     "data": {
      "text/plain": [
       "[<matplotlib.lines.Line2D at 0x7f60e4d32f98>,\n",
       " <matplotlib.lines.Line2D at 0x7f60e4d32f60>]"
      ]
     },
     "execution_count": 74,
     "metadata": {},
     "output_type": "execute_result"
    },
    {
     "data": {
      "image/png": "[encoded data removed]",
      "text/plain": [
       "<Figure size 432x288 with 1 Axes>"
      ]
     },
     "metadata": {
      "needs_background": "light"
     },
     "output_type": "display_data"
    }
   ],
   "source": [
    "t = 5.0\n",
    "\n",
    "eval_data = get_all_input(dataset)\n",
    "input_data = eval_data[0]\n",
    "label_data = eval_data[1]\n",
    "\n",
    "pred = model(input_data).detach().numpy()\n",
    "plt.plot(dataset['x'], label_data[int(t * 1000): int(t * 1000 + 100)], dataset['x'], pred[int(t * 1000): int(t * 1000 + 100)])"
   ]
  },
  {
   "cell_type": "code",
   "execution_count": null,
   "metadata": {},
   "outputs": [],
   "source": []
  },
  {
   "cell_type": "code",
   "execution_count": null,
   "metadata": {},
   "outputs": [],
   "source": []
  },
  {
   "cell_type": "code",
   "execution_count": null,
   "metadata": {},
   "outputs": [],
   "source": []
  }
 ],
 "metadata": {
  "kernelspec": {
   "display_name": "Python 3",
   "language": "python",
   "name": "python3"
  },
  "language_info": {
   "codemirror_mode": {
    "name": "ipython",
    "version": 3
   },
   "file_extension": ".py",
   "mimetype": "text/x-python",
   "name": "python",
   "nbconvert_exporter": "python",
   "pygments_lexer": "ipython3",
   "version": "3.6.8"
  }
 },
 "nbformat": 4,
 "nbformat_minor": 4
}
